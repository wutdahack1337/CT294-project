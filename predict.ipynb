{
 "cells": [
  {
   "cell_type": "code",
   "execution_count": 25,
   "id": "9809258c-ecfe-426f-8d36-783b195a122c",
   "metadata": {},
   "outputs": [],
   "source": [
    "import joblib\n",
    "import numpy as np\n",
    "import pandas as pd\n",
    "from flask import Flask, render_template, request\n",
    "\n",
    "# model evaluate\n",
    "from sklearn.metrics import mean_squared_error"
   ]
  },
  {
   "cell_type": "code",
   "execution_count": 3,
   "id": "26a4bcde-ecb2-43ce-9574-ac06687e4c9a",
   "metadata": {},
   "outputs": [],
   "source": [
    "models = {\n",
    "    \"LR\": joblib.load(\"models/LinearRegression(n_jobs=-1).pkl\"),\n",
    "    # TODO: change n_estimator\n",
    "    \"RF\": joblib.load(\"models/RandomForestRegressor(n_estimators=5, n_jobs=-1, random_state=1337, verbose=1).pkl\"),\n",
    "    # TODO: change n_estimator\n",
    "    \"GBM\": joblib.load(\"models/GradientBoostingRegressor(max_depth=5, n_estimators=5, random_state=1337,                          verbose=1).pkl\"),\n",
    "}"
   ]
  },
  {
   "cell_type": "code",
   "execution_count": 32,
   "id": "4fb5ee90-bfbe-4a43-84f0-945789a9755b",
   "metadata": {},
   "outputs": [],
   "source": [
    "app = Flask(__name__)\n",
    "\n",
    "@app.route('/', methods=[\"GET\", \"POST\"])\n",
    "def index():\n",
    "    prediction = None\n",
    "    if request.method == \"POST\":\n",
    "        sepal_length = float(request.form['sepal_length'])\n",
    "    prediction=\"Bruh\"\n",
    "    return render_template(\"index.html\", prediction=prediction)"
   ]
  },
  {
   "cell_type": "code",
   "execution_count": 27,
   "id": "dbb14885-48f3-425f-b748-f6534aff16a0",
   "metadata": {},
   "outputs": [],
   "source": [
    "# X = [[40, 19.89, 46.0266666666667, 19.2, 44.5, 19.79, 44.9333333333333, 18.89, 45.73,\n",
    "#      17.1333333333333, 55.03, 6.3, 85.7666666666667, 17.1333333333333, 41.26,\n",
    "#      18.1, 48.59, 17.0, 45.29, 6.01666666666667,\n",
    "#      734.0, 92.0, 5.33333333333333, 43.8333333333333, 4.8]]\n"
   ]
  },
  {
   "cell_type": "code",
   "execution_count": 28,
   "id": "7e080216-9e8d-410b-be25-1e7717745144",
   "metadata": {},
   "outputs": [],
   "source": [
    "# for name, model in models.items():\n",
    "#     print(\"#########\", name, \"#########\")\n",
    "#     y_pred = model.predict(X)\n",
    "\n",
    "#     if name == \"LR\":\n",
    "#         print(\"\\tcoefficients:\", model.coef_)\n",
    "#         print(\"\\tintercept:\", model.intercept_)\n",
    "    \n",
    "#     print(\"   -> predict:\", np.round(y_pred[0], 3))"
   ]
  },
  {
   "cell_type": "code",
   "execution_count": null,
   "id": "7dc07dfd-ccfa-45e2-a06c-b1db71842c24",
   "metadata": {},
   "outputs": [],
   "source": []
  }
 ],
 "metadata": {
  "kernelspec": {
   "display_name": "Python 3 (ipykernel)",
   "language": "python",
   "name": "python3"
  },
  "language_info": {
   "codemirror_mode": {
    "name": "ipython",
    "version": 3
   },
   "file_extension": ".py",
   "mimetype": "text/x-python",
   "name": "python",
   "nbconvert_exporter": "python",
   "pygments_lexer": "ipython3",
   "version": "3.13.2"
  }
 },
 "nbformat": 4,
 "nbformat_minor": 5
}
