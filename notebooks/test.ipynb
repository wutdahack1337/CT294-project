{
 "cells": [
  {
   "cell_type": "code",
   "execution_count": 26,
   "id": "4bd714a2-f58d-4ce3-b8e0-21357b11d336",
   "metadata": {},
   "outputs": [
    {
     "name": "stdout",
     "output_type": "stream",
     "text": [
      "\n",
      "LinearRegression:\n",
      "  → RMSE (30 lần): [ 85.35  96.62  95.47 104.19  94.71  90.27  96.8   88.79  94.61  90.17\n",
      "  91.52  87.63  89.65  95.03  95.74  90.22  94.66  99.2   91.14 102.86\n",
      "  97.47  96.53 102.68  99.34  93.14  86.97  88.15  86.37  90.96  95.49]\n",
      "  → Mean RMSE = 93.72 ± 4.91\n",
      "\n",
      "RandomForest:\n",
      "  → RMSE (30 lần): [62.03 72.12 71.34 75.67 73.34 62.54 71.16 64.87 70.42 70.29 64.62 67.41\n",
      " 63.25 72.85 71.9  64.08 71.39 74.63 70.27 74.6  69.21 71.16 76.81 75.35\n",
      " 67.6  63.06 67.27 61.79 66.84 71.8 ]\n",
      "  → Mean RMSE = 69.32 ± 4.38\n",
      "\n",
      "GradientBoosting:\n",
      "  → RMSE (30 lần): [ 84.95  95.93  95.27 101.99  95.44  88.7   96.32  87.43  95.06  89.42\n",
      "  89.99  87.29  88.4   93.79  98.07  88.45  94.86  98.36  89.69 101.25\n",
      "  97.3   95.42 100.99  98.47  92.4   86.45  88.62  86.06  89.98  93.93]\n",
      "  → Mean RMSE = 93.01 ± 4.84\n",
      "\n"
     ]
    }
   ],
   "source": [
    "# src/train.py\n",
    "import datetime\n",
    "import numpy as np\n",
    "import pandas as pd\n",
    "from sklearn.linear_model import LinearRegression\n",
    "from sklearn.ensemble import RandomForestRegressor, GradientBoostingRegressor\n",
    "from sklearn.model_selection import RepeatedKFold, cross_val_score\n",
    "\n",
    "# 1. Chuẩn bị dữ liệu\n",
    "df = pd.read_csv(\"energydata_complete.csv\")\n",
    "df[\"date\"] = pd.to_datetime(df[\"date\"])\n",
    "df[\"Appliances\"] = pd.to_numeric(df[\"Appliances\"])\n",
    "df.set_index(\"date\", inplace=True)\n",
    "\n",
    "X = df.iloc[:,1:]\n",
    "y = df.Appliances\n",
    "\n",
    "# 2. Khởi tạo mô hình\n",
    "models = {\n",
    "    \"LinearRegression\": LinearRegression(),\n",
    "    \"RandomForest\": RandomForestRegressor(n_estimators=32, random_state=42),\n",
    "    \"GradientBoosting\": GradientBoostingRegressor(n_estimators=32, random_state=42),\n",
    "}\n",
    "\n",
    "print()\n",
    "\n",
    "# 3. 10-fold CV lặp lại 3 lần → 30 kết quả mỗi model\n",
    "rkf = RepeatedKFold(n_splits=10, n_repeats=3, random_state=42)\n",
    "\n",
    "# 4. Đo bằng RMSE\n",
    "results = {}\n",
    "for name, model in models.items():\n",
    "    # Trả về 30 giá trị RMSE âm → ta lấy âm lại để ra RMSE dương\n",
    "    neg_rmse_scores = cross_val_score(model, X, y, cv=rkf, scoring=\"neg_root_mean_squared_error\", n_jobs=-1)\n",
    "    rmse_scores = -neg_rmse_scores  # đổi dấu\n",
    "    results[name] = rmse_scores\n",
    "    results[name] = np.append(results[name], rmse_scores.mean())\n",
    "   \n",
    "    print(f\"{name}:\")\n",
    "    print(f\"  → RMSE ({len(rmse_scores)} lần): {np.round(rmse_scores, 2)}\")\n",
    "    print(f\"  → Mean RMSE = {rmse_scores.mean():.2f} ± {rmse_scores.std():.2f}\\n\")\n",
    "\n",
    "df = pd.DataFrame(results)\n",
    "df.to_csv(f\"results_{models[\"RandomForest\"].n_estimators}_{models[\"GradientBoosting\"].n_estimators}.csv\", index=False)"
   ]
  },
  {
   "cell_type": "code",
   "execution_count": null,
   "id": "d48ea74e-dd58-472a-b088-3e0f835a737d",
   "metadata": {},
   "outputs": [],
   "source": []
  }
 ],
 "metadata": {
  "kernelspec": {
   "display_name": "Python 3 (ipykernel)",
   "language": "python",
   "name": "python3"
  },
  "language_info": {
   "codemirror_mode": {
    "name": "ipython",
    "version": 3
   },
   "file_extension": ".py",
   "mimetype": "text/x-python",
   "name": "python",
   "nbconvert_exporter": "python",
   "pygments_lexer": "ipython3",
   "version": "3.13.2"
  }
 },
 "nbformat": 4,
 "nbformat_minor": 5
}
